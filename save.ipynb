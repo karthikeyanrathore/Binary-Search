{
 "cells": [
  {
   "cell_type": "code",
   "execution_count": 30,
   "id": "71cb20c1",
   "metadata": {},
   "outputs": [],
   "source": [
    "import cv2\n",
    "from matplotlib import pyplot as plt"
   ]
  },
  {
   "cell_type": "code",
   "execution_count": 31,
   "id": "5bfe9c6b",
   "metadata": {},
   "outputs": [],
   "source": [
    "t = cv2.imread(\"test/tiny.png\")\n",
    "t  = cv2.cvtColor(t , cv2.COLOR_BGR2RGB)"
   ]
  },
  {
   "cell_type": "code",
   "execution_count": 32,
   "id": "8f808823",
   "metadata": {},
   "outputs": [],
   "source": [
    "t_out = cv2.imread(\"test/tiny_out.png\")\n",
    "t_out  = cv2.cvtColor(t_out , cv2.COLOR_BGR2RGB)"
   ]
  },
  {
   "cell_type": "code",
   "execution_count": 33,
   "id": "ab2456ee",
   "metadata": {},
   "outputs": [],
   "source": [
    "s = cv2.imread(\"test/small.png\")\n",
    "s = cv2.cvtColor(s , cv2.COLOR_BGR2RGB)"
   ]
  },
  {
   "cell_type": "code",
   "execution_count": 34,
   "id": "2cbad509",
   "metadata": {},
   "outputs": [],
   "source": [
    "s_out = cv2.imread(\"test/small_out.png\")\n",
    "s_out  = cv2.cvtColor(s_out , cv2.COLOR_BGR2RGB)"
   ]
  },
  {
   "cell_type": "code",
   "execution_count": 35,
   "id": "04ede8e9",
   "metadata": {},
   "outputs": [],
   "source": [
    "n = cv2.imread(\"test/normal.png\")\n",
    "n = cv2.cvtColor(n , cv2.COLOR_BGR2RGB)"
   ]
  },
  {
   "cell_type": "code",
   "execution_count": 36,
   "id": "296459eb",
   "metadata": {},
   "outputs": [],
   "source": [
    "n_out = cv2.imread(\"test/normal_out.png\")\n",
    "n_out = cv2.cvtColor(n_out , cv2.COLOR_BGR2RGB)"
   ]
  },
  {
   "cell_type": "code",
   "execution_count": null,
   "id": "fcf190e3",
   "metadata": {},
   "outputs": [],
   "source": []
  },
  {
   "cell_type": "code",
   "execution_count": 41,
   "id": "086a49c3",
   "metadata": {},
   "outputs": [
    {
     "data": {
      "image/png": "[encoded data removed]",
      "text/plain": [
       "<Figure size 720x720 with 6 Axes>"
      ]
     },
     "metadata": {
      "needs_background": "light"
     },
     "output_type": "display_data"
    }
   ],
   "source": [
    "plt.figure(figsize=(10,10))\n",
    "plt.subplot(3,2,1)\n",
    "plt.imshow(t)\n",
    "plt.title(\"tiny\")\n",
    "\n",
    "plt.subplot(3,2,2)\n",
    "plt.imshow(t_out, cmap=\"gray\")\n",
    "plt.title(\"out\")\n",
    "\n",
    "\n",
    "plt.subplot(3,2,3)\n",
    "plt.imshow(s, cmap=\"gray\")\n",
    "plt.title(\"small\")\n",
    "\n",
    "\n",
    "plt.subplot(3,2,4)\n",
    "plt.imshow(s_out, cmap=\"gray\")\n",
    "plt.title(\"out\")\n",
    "\n",
    "\n",
    "plt.subplot(3,2,5)\n",
    "plt.imshow(n, cmap=\"gray\")\n",
    "plt.title(\"normal\")\n",
    "\n",
    "\n",
    "plt.subplot(3,2,6)\n",
    "plt.imshow(n_out, cmap=\"gray\")\n",
    "plt.title(\"out\")\n",
    "\n",
    "\n",
    "\n",
    "plt.tight_layout()\n",
    "\n",
    "\n",
    "\n",
    "plt.savefig('images/READ.png', transparent=True)"
   ]
  },
  {
   "cell_type": "code",
   "execution_count": null,
   "id": "ed2dc279",
   "metadata": {},
   "outputs": [],
   "source": []
  },
  {
   "cell_type": "code",
   "execution_count": null,
   "id": "0afdb955",
   "metadata": {},
   "outputs": [],
   "source": []
  }
 ],
 "metadata": {
  "kernelspec": {
   "display_name": "Python 3 (ipykernel)",
   "language": "python",
   "name": "python3"
  },
  "language_info": {
   "codemirror_mode": {
    "name": "ipython",
    "version": 3
   },
   "file_extension": ".py",
   "mimetype": "text/x-python",
   "name": "python",
   "nbconvert_exporter": "python",
   "pygments_lexer": "ipython3",
   "version": "3.9.7"
  }
 },
 "nbformat": 4,
 "nbformat_minor": 5
}
